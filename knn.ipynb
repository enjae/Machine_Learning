import pandas as pd
import random
import csv
data = pd.read_csv('IRIS.csv')
import csv
with open(r'IRIS.csv') as csvfile:
    lines = csv.reader(csvfile)
    
def loadDataset(filename, split, trainingSet=[] , testSet=[]):
    with open(filename,'r') as csvfile:
        lines = csv.reader(csvfile)
        dataset = list(lines)
        #print(dataset[1])
        t1=[] 
        t2=[]
        t3=[]
        
        for i in range (1,len(dataset)):
            if dataset[i][4]=='Iris-setosa':
                t1.append(i)
            elif dataset[i][4]=='Iris-versicolor':
                t2.append(i)
            elif dataset[i][4]=='Iris-virginica':
                t3.append(i)
        print(len(t1)+len(t2)+len(t3))
        
        for x in t1:
            for y in range(4):
                dataset[x][y] = float(dataset[x][y])
           # print(random.random())
            if len(trainingSet)<=(split*len(t1)):#random.random() < split:
                trainingSet.append(dataset[x])
            else:
                testSet.append(dataset[x])
        
        for x in t2:
            for y in range(4):
                dataset[x][y] = float(dataset[x][y])
           # print(random.random())
            if len(trainingSet) <= (split*len(t1)+split*len(t2)):#random.random() < split:
                trainingSet.append(dataset[x])
            else:
                testSet.append(dataset[x])
                
        for x in t3:
            for y in range(4):
                dataset[x][y] = float(dataset[x][y])
           # print(random.random())
            if len(trainingSet) <= (split*len(t1)+split*len(t2)+split*len(t3)):#random.random() < split:
                trainingSet.append(dataset[x])
            else:
                testSet.append(dataset[x])
import math
def euclideanDistance(instance1, instance2, length):
	distance = 0
	for x in range(length):
		distance += pow((instance1[x] - instance2[x]), 2)
	return math.sqrt(distance)
  
import operator 
def getNeighbors(trainingSet, testInstance, k):
	distances = []
	length = len(testInstance)-1
	for x in range(len(trainingSet)):
		dist = euclideanDistance(testInstance, trainingSet[x], length)
		distances.append((trainingSet[x], dist))
	distances.sort(key=operator.itemgetter(1))
	neighbors = []
	for x in range(k):
		neighbors.append(distances[x][0])
	return neighbors
  
import operator
def getResponse(neighbors):
	classVotes = {}
	for x in range(len(neighbors)):
		response = neighbors[x][-1]
		if response in classVotes:
			classVotes[response] += 1
		else:
			classVotes[response] = 1
	sortedVotes = sorted(classVotes.items(), key=operator.itemgetter(1), reverse=True)
	return sortedVotes[0][0]
  
  
def getAccuracy(testSet, predictions):
	correct = 0
	for x in range(len(testSet)):
		if testSet[x][-1] in predictions[x]: 
			correct += 1
			
	return (correct/float(len(testSet))*100)
  
def getPredictions(trainingSet,testSet,k,predictions):
    #predictions = []
    #print(len(testSet))
    for x in range(len(testSet)):
        neighbors=getNeighbors(trainingSet,testSet[x], k)
        result = getResponse(neighbors)
        predictions.append(result)
    return predictions
    
def main():
    #prepare data
    trainingSet=[]
    testSet=[]
    loadDataset(r'IRIS.csv',0.66,trainingSet,testSet)    
    
    print ('Train: ' + repr(len(trainingSet)))
    print ('Test: ' + repr(len(testSet)))
    
#     print(trainingSet)
    #print(len(testSet))
    
    n =[]
    acc = []
    predictions = []
    for k in range(1,100,2):
        getPredictions(trainingSet,testSet,k,predictions)
        #print(k)
        accuracy = getAccuracy(testSet,predictions)
        #for x in range(len(testSet)):
            #print('-->predicted='+repr(predictions[x])+' ,actual='+repr(testSet[x][-1]))
        n.append(k)
        acc.append(accuracy)
        print('Accuracy: ' + repr(accuracy) + '%')
    
    print(acc[2])
    import matplotlib.pyplot as plt
    plt.plot(n,acc)
    plt.xlabel("k")
    plt.ylabel("accuracy")
    plt.title("ACCURACY vs K")
    plt.show()   
    
                
